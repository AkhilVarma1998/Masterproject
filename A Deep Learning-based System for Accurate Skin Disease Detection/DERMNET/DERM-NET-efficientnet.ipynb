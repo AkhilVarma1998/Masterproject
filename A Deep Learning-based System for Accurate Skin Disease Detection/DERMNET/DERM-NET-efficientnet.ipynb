{
 "cells": [
  {
   "cell_type": "code",
   "execution_count": 1,
   "id": "1f992005",
   "metadata": {},
   "outputs": [],
   "source": [
    "import matplotlib\n",
    "#matplotlib.use(\"Agg\")\n",
    "\n",
    "# import the necessary packages\n",
    "from tensorflow.keras.preprocessing.image import ImageDataGenerator\n",
    "from tensorflow.keras.applications.efficientnet import EfficientNetB0\n",
    "\n",
    "from tensorflow.keras.layers import Input\n",
    "from tensorflow.keras.models import Model\n",
    "from tensorflow.keras.optimizers import SGD\n",
    "from tensorflow.keras.layers import AveragePooling2D, Dropout, Flatten, Dense\n",
    "#from sklearn.preprocessing import LabelBinarizer\n",
    "from sklearn.model_selection import train_test_split\n",
    "from sklearn.metrics import classification_report\n",
    "#from imutils import paths\n",
    "import matplotlib.pyplot as plt\n",
    "import numpy as np\n",
    "import pickle\n",
    "import cv2\n",
    "import os\n",
    "from sklearn.metrics import confusion_matrix\n",
    "from sklearn.utils.multiclass import unique_labels\n",
    "import tensorflow as tf\n",
    "\n",
    "\n",
    "\n",
    "from sklearn.preprocessing import LabelBinarizer\n",
    "from skimage.io import imread, imshow\n",
    "\n"
   ]
  },
  {
   "cell_type": "code",
   "execution_count": 2,
   "id": "40ac5ddb",
   "metadata": {},
   "outputs": [],
   "source": [
    "x=np.load(\"../data.csv.npy\")\n",
    "y=np.load(\"../labels.npy\")"
   ]
  },
  {
   "cell_type": "code",
   "execution_count": 3,
   "id": "c77010b8",
   "metadata": {},
   "outputs": [],
   "source": [
    "(trainX, testX, trainY, testY) = train_test_split(x, y,\n",
    "test_size=0.20, stratify=y, random_state=42)"
   ]
  },
  {
   "cell_type": "code",
   "execution_count": 4,
   "id": "07004035",
   "metadata": {},
   "outputs": [
    {
     "name": "stdout",
     "output_type": "stream",
     "text": [
      "[INFO] compiling model...\n",
      "[INFO] training head...\n"
     ]
    },
    {
     "name": "stderr",
     "output_type": "stream",
     "text": [
      "G:\\ANNACONDA\\lib\\site-packages\\tensorflow\\python\\keras\\optimizer_v2\\optimizer_v2.py:374: UserWarning: The `lr` argument is deprecated, use `learning_rate` instead.\n",
      "  warnings.warn(\n",
      "G:\\ANNACONDA\\lib\\site-packages\\tensorflow\\python\\keras\\engine\\training.py:1940: UserWarning: `Model.fit_generator` is deprecated and will be removed in a future version. Please use `Model.fit`, which supports generators.\n",
      "  warnings.warn('`Model.fit_generator` is deprecated and '\n"
     ]
    },
    {
     "name": "stdout",
     "output_type": "stream",
     "text": [
      "Epoch 1/20\n",
      "195/195 [==============================] - 478s 2s/step - loss: 2.6747 - accuracy: 0.2287 - val_loss: 2.3882 - val_accuracy: 0.2960\n",
      "Epoch 2/20\n",
      "195/195 [==============================] - 440s 2s/step - loss: 2.4313 - accuracy: 0.2834 - val_loss: 2.2998 - val_accuracy: 0.3107\n",
      "Epoch 3/20\n",
      "195/195 [==============================] - 431s 2s/step - loss: 2.3308 - accuracy: 0.3057 - val_loss: 2.2150 - val_accuracy: 0.3287\n",
      "Epoch 4/20\n",
      "195/195 [==============================] - 439s 2s/step - loss: 2.2587 - accuracy: 0.3224 - val_loss: 2.1804 - val_accuracy: 0.3393\n",
      "Epoch 5/20\n",
      "195/195 [==============================] - 460s 2s/step - loss: 2.1992 - accuracy: 0.3451 - val_loss: 2.1613 - val_accuracy: 0.3525\n",
      "Epoch 6/20\n",
      "195/195 [==============================] - 456s 2s/step - loss: 2.1507 - accuracy: 0.3618 - val_loss: 2.1296 - val_accuracy: 0.3580\n",
      "Epoch 7/20\n",
      "195/195 [==============================] - 464s 2s/step - loss: 2.1174 - accuracy: 0.3665 - val_loss: 2.1214 - val_accuracy: 0.3570\n",
      "Epoch 8/20\n",
      "195/195 [==============================] - 471s 2s/step - loss: 2.0829 - accuracy: 0.3765 - val_loss: 2.0807 - val_accuracy: 0.3731\n",
      "Epoch 9/20\n",
      "195/195 [==============================] - 569s 3s/step - loss: 2.0436 - accuracy: 0.3839 - val_loss: 2.0851 - val_accuracy: 0.3683\n",
      "Epoch 10/20\n",
      "195/195 [==============================] - 543s 3s/step - loss: 2.0142 - accuracy: 0.3892 - val_loss: 2.0435 - val_accuracy: 0.3776\n",
      "Epoch 11/20\n",
      "195/195 [==============================] - 511s 3s/step - loss: 1.9960 - accuracy: 0.3952 - val_loss: 2.0426 - val_accuracy: 0.3814\n",
      "Epoch 12/20\n",
      "195/195 [==============================] - 448s 2s/step - loss: 1.9661 - accuracy: 0.4027 - val_loss: 2.0369 - val_accuracy: 0.3853\n",
      "Epoch 13/20\n",
      "195/195 [==============================] - 446s 2s/step - loss: 1.9483 - accuracy: 0.4072 - val_loss: 2.0268 - val_accuracy: 0.3840\n",
      "Epoch 14/20\n",
      "195/195 [==============================] - 463s 2s/step - loss: 1.9223 - accuracy: 0.4126 - val_loss: 2.0113 - val_accuracy: 0.3927\n",
      "Epoch 15/20\n",
      "195/195 [==============================] - 438s 2s/step - loss: 1.8953 - accuracy: 0.4243 - val_loss: 2.0065 - val_accuracy: 0.3981\n",
      "Epoch 16/20\n",
      "195/195 [==============================] - 430s 2s/step - loss: 1.8642 - accuracy: 0.4292 - val_loss: 2.0006 - val_accuracy: 0.3985\n",
      "Epoch 17/20\n",
      "195/195 [==============================] - 423s 2s/step - loss: 1.8565 - accuracy: 0.4333 - val_loss: 1.9914 - val_accuracy: 0.4010\n",
      "Epoch 18/20\n",
      "195/195 [==============================] - 440s 2s/step - loss: 1.8395 - accuracy: 0.4443 - val_loss: 1.9890 - val_accuracy: 0.4017\n",
      "Epoch 19/20\n",
      "195/195 [==============================] - 438s 2s/step - loss: 1.8246 - accuracy: 0.4448 - val_loss: 1.9921 - val_accuracy: 0.4017\n",
      "Epoch 20/20\n",
      "195/195 [==============================] - 434s 2s/step - loss: 1.7999 - accuracy: 0.4493 - val_loss: 1.9621 - val_accuracy: 0.4155\n"
     ]
    }
   ],
   "source": [
    "trainAug = ImageDataGenerator(\n",
    "\trotation_range=30,\n",
    "\tzoom_range=0.15,\n",
    "\twidth_shift_range=0.2,\n",
    "\theight_shift_range=0.2,\n",
    "\tshear_range=0.15,\n",
    "\thorizontal_flip=True,\n",
    "\tfill_mode=\"nearest\")\n",
    "valAug = ImageDataGenerator()\n",
    "mean = np.array([123.68, 116.779, 103.939], dtype=\"float32\")\n",
    "trainAug.mean = mean\n",
    "valAug.mean = mean\n",
    "\n",
    "baseModel = EfficientNetB0(weights=\"imagenet\", include_top=False,\n",
    "\tinput_tensor=Input(shape=(224, 224, 3)))\n",
    "\n",
    "for layer in baseModel.layers:\n",
    "\tlayer.trainable = False\n",
    "\n",
    "\n",
    "headModel = baseModel.output\n",
    "headModel = AveragePooling2D(pool_size=(3, 3))(headModel)\n",
    "headModel = Flatten(name=\"flatten\")(headModel)\n",
    "headModel = Dense(512, activation=\"relu\")(headModel)\n",
    "headModel = Dropout(0.5)(headModel)\n",
    "headModel = Dense(23, activation=\"softmax\")(headModel)\n",
    "\n",
    "model = Model(inputs=baseModel.input, outputs=headModel)\n",
    "print(\"[INFO] compiling model...\")\n",
    "opt = SGD(lr=1e-2, momentum=0.9, decay=1e-2/15)\n",
    "model.compile(loss=\"categorical_crossentropy\", optimizer=opt,\n",
    "\tmetrics=[\"accuracy\"])\n",
    "print(\"[INFO] training head...\")\n",
    "H = model.fit_generator(\n",
    "\ttrainAug.flow(trainX, trainY, batch_size=64),\n",
    "\t#steps_per_epoch=len(trainX) //64,\n",
    "\tvalidation_data=valAug.flow(testX, testY),\n",
    "\t#validation_steps=len(testX) //64,\n",
    "\tepochs=20)"
   ]
  },
  {
   "cell_type": "code",
   "execution_count": 12,
   "id": "4823af4e",
   "metadata": {},
   "outputs": [
    {
     "ename": "AttributeError",
     "evalue": "module 'tensorflow.keras.models' has no attribute 'save'",
     "output_type": "error",
     "traceback": [
      "\u001b[1;31m---------------------------------------------------------------------------\u001b[0m",
      "\u001b[1;31mAttributeError\u001b[0m                            Traceback (most recent call last)",
      "\u001b[1;32m<ipython-input-12-65f05e15b4ec>\u001b[0m in \u001b[0;36m<module>\u001b[1;34m\u001b[0m\n\u001b[1;32m----> 1\u001b[1;33m \u001b[0mmodel\u001b[0m \u001b[1;33m=\u001b[0m \u001b[0mkeras\u001b[0m\u001b[1;33m.\u001b[0m\u001b[0mmodels\u001b[0m\u001b[1;33m.\u001b[0m\u001b[0msave\u001b[0m\u001b[1;33m(\u001b[0m\u001b[1;34m'skinmodel'\u001b[0m\u001b[1;33m)\u001b[0m\u001b[1;33m\u001b[0m\u001b[1;33m\u001b[0m\u001b[0m\n\u001b[0m",
      "\u001b[1;31mAttributeError\u001b[0m: module 'tensorflow.keras.models' has no attribute 'save'"
     ]
    }
   ],
   "source": [
    "model = keras.models.save('skinmodel')"
   ]
  },
  {
   "cell_type": "code",
   "execution_count": 11,
   "id": "5f54a064",
   "metadata": {},
   "outputs": [],
   "source": [
    "from tensorflow import keras"
   ]
  },
  {
   "cell_type": "code",
   "execution_count": 14,
   "id": "8674af75",
   "metadata": {},
   "outputs": [
    {
     "name": "stderr",
     "output_type": "stream",
     "text": [
      "G:\\ANNACONDA\\lib\\site-packages\\tensorflow\\python\\keras\\utils\\generic_utils.py:494: CustomMaskWarning: Custom mask layers require a config and must override get_config. When loading, the custom mask layer must be passed to the custom_objects argument.\n",
      "  warnings.warn('Custom mask layers require a config and must override '\n"
     ]
    },
    {
     "name": "stdout",
     "output_type": "stream",
     "text": [
      "INFO:tensorflow:Assets written to: resNet_mode101l_for_fingerprint.hd5\\assets\n"
     ]
    }
   ],
   "source": []
  },
  {
   "cell_type": "code",
   "execution_count": 15,
   "id": "d57efd19",
   "metadata": {},
   "outputs": [
    {
     "name": "stderr",
     "output_type": "stream",
     "text": [
      "G:\\ANNACONDA\\lib\\site-packages\\tensorflow\\python\\keras\\utils\\generic_utils.py:494: CustomMaskWarning: Custom mask layers require a config and must override get_config. When loading, the custom mask layer must be passed to the custom_objects argument.\n",
      "  warnings.warn('Custom mask layers require a config and must override '\n"
     ]
    },
    {
     "name": "stdout",
     "output_type": "stream",
     "text": [
      "INFO:tensorflow:Assets written to: skinnet\\assets\n"
     ]
    }
   ],
   "source": [
    "model.save('skinnet')"
   ]
  },
  {
   "cell_type": "code",
   "execution_count": 17,
   "id": "22505e90",
   "metadata": {},
   "outputs": [],
   "source": [
    "model.save('skinnet.h5')"
   ]
  },
  {
   "cell_type": "code",
   "execution_count": 19,
   "id": "a5dd6876",
   "metadata": {},
   "outputs": [],
   "source": [
    "model.save('skinnet.hdf5')"
   ]
  },
  {
   "cell_type": "code",
   "execution_count": 21,
   "id": "dc324b54",
   "metadata": {},
   "outputs": [],
   "source": [
    "model.save_weights('skinnetweights.h5')"
   ]
  },
  {
   "cell_type": "code",
   "execution_count": null,
   "id": "ecbdd2ee",
   "metadata": {},
   "outputs": [],
   "source": []
  }
 ],
 "metadata": {
  "kernelspec": {
   "display_name": "Python 3",
   "language": "python",
   "name": "python3"
  },
  "language_info": {
   "codemirror_mode": {
    "name": "ipython",
    "version": 3
   },
   "file_extension": ".py",
   "mimetype": "text/x-python",
   "name": "python",
   "nbconvert_exporter": "python",
   "pygments_lexer": "ipython3",
   "version": "3.8.8"
  }
 },
 "nbformat": 4,
 "nbformat_minor": 5
}
